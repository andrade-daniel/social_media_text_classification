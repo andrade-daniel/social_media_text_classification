{
 "cells": [
  {
   "cell_type": "code",
   "execution_count": 1,
   "metadata": {},
   "outputs": [
    {
     "data": {
      "application/javascript": [
       "\n",
       "            setTimeout(function() {\n",
       "                var nbb_cell_id = 1;\n",
       "                var nbb_formatted_code = \"%load_ext nb_black\";\n",
       "                var nbb_cells = Jupyter.notebook.get_cells();\n",
       "                for (var i = 0; i < nbb_cells.length; ++i) {\n",
       "                    if (nbb_cells[i].input_prompt_number == nbb_cell_id) {\n",
       "                        nbb_cells[i].set_text(nbb_formatted_code);\n",
       "                        break;\n",
       "                    }\n",
       "                }\n",
       "            }, 500);\n",
       "            "
      ],
      "text/plain": [
       "<IPython.core.display.Javascript object>"
      ]
     },
     "metadata": {},
     "output_type": "display_data"
    }
   ],
   "source": [
    "%load_ext nb_black"
   ]
  },
  {
   "cell_type": "markdown",
   "metadata": {},
   "source": [
    "# BiLSTM (using GloVe embeddings)\n",
    "## 'harmful' label"
   ]
  },
  {
   "cell_type": "code",
   "execution_count": 29,
   "metadata": {},
   "outputs": [
    {
     "data": {
      "application/javascript": [
       "\n",
       "            setTimeout(function() {\n",
       "                var nbb_cell_id = 29;\n",
       "                var nbb_formatted_code = \"import pandas as pd\\nimport numpy as np\\nimport re\\nimport nltk\\nfrom nltk.stem import WordNetLemmatizer\\nimport emoji\\nimport random\\n\\n# from nltk.sentiment.vader import SentimentIntensityAnalyzer\\nimport matplotlib.pyplot as plt\\nfrom keras.preprocessing.text import Tokenizer\\nfrom keras.preprocessing.sequence import pad_sequences\\nfrom keras.utils import to_categorical\\nfrom keras.models import Sequential, load_model\\nfrom keras.layers import *\\nfrom keras.utils.np_utils import to_categorical\\nfrom keras.initializers import Constant\\nfrom keras.regularizers import l2\\nfrom keras.models import Model\\nfrom keras.layers import Dense, Embedding, Input\\nfrom keras.preprocessing import text, sequence\\nfrom keras.callbacks import EarlyStopping, ModelCheckpoint\\nfrom keras import initializers, regularizers, constraints, optimizers, layers\\nimport sys, os, re, csv, codecs\\nfrom sklearn.model_selection import train_test_split\\nfrom sklearn.metrics import (\\n    roc_curve,\\n    auc,\\n    roc_auc_score,\\n    accuracy_score,\\n    average_precision_score,\\n    precision_recall_curve,\\n    f1_score,\\n    precision_score,\\n    recall_score,\\n    classification_report,\\n)\\nfrom inspect import signature\\nimport text_utils\\n\\nrandom.seed(42)\";\n",
       "                var nbb_cells = Jupyter.notebook.get_cells();\n",
       "                for (var i = 0; i < nbb_cells.length; ++i) {\n",
       "                    if (nbb_cells[i].input_prompt_number == nbb_cell_id) {\n",
       "                        nbb_cells[i].set_text(nbb_formatted_code);\n",
       "                        break;\n",
       "                    }\n",
       "                }\n",
       "            }, 500);\n",
       "            "
      ],
      "text/plain": [
       "<IPython.core.display.Javascript object>"
      ]
     },
     "metadata": {},
     "output_type": "display_data"
    }
   ],
   "source": [
    "import pandas as pd\n",
    "import numpy as np\n",
    "import re\n",
    "import nltk\n",
    "from nltk.stem import WordNetLemmatizer\n",
    "import emoji\n",
    "import random\n",
    "\n",
    "import matplotlib.pyplot as plt\n",
    "from keras.preprocessing.text import Tokenizer\n",
    "from keras.preprocessing.sequence import pad_sequences\n",
    "from keras.utils import to_categorical\n",
    "from keras.models import Sequential, load_model\n",
    "from keras.layers import *\n",
    "from keras.utils.np_utils import to_categorical\n",
    "from keras.initializers import Constant\n",
    "from keras import optimizers\n",
    "from keras.models import Model\n",
    "from keras.layers import Dense, Embedding, Input\n",
    "from keras.preprocessing import text, sequence\n",
    "from keras.callbacks import EarlyStopping, ModelCheckpoint\n",
    "from keras import initializers, regularizers, constraints, optimizers, layers\n",
    "import sys, os, re, csv, codecs\n",
    "from sklearn.model_selection import train_test_split\n",
    "from sklearn.metrics import (\n",
    "    roc_curve,\n",
    "    auc,\n",
    "    roc_auc_score,\n",
    "    accuracy_score,\n",
    "    average_precision_score,\n",
    "    precision_recall_curve,\n",
    "    f1_score,\n",
    "    precision_score,\n",
    "    recall_score,\n",
    "    classification_report,\n",
    ")\n",
    "from inspect import signature\n",
    "import text_utils\n",
    "\n",
    "random.seed(42)"
   ]
  },
  {
   "cell_type": "code",
   "execution_count": 112,
   "metadata": {},
   "outputs": [
    {
     "data": {
      "application/javascript": [
       "\n",
       "            setTimeout(function() {\n",
       "                var nbb_cell_id = 112;\n",
       "                var nbb_formatted_code = \"files_folder = (\\n    r\\\"C:\\\\Users\\\\daniel.andrade\\\\Documents\\\\repos\\\\social_media_text_classification\\\\files\\\"\\n)\";\n",
       "                var nbb_cells = Jupyter.notebook.get_cells();\n",
       "                for (var i = 0; i < nbb_cells.length; ++i) {\n",
       "                    if (nbb_cells[i].input_prompt_number == nbb_cell_id) {\n",
       "                        nbb_cells[i].set_text(nbb_formatted_code);\n",
       "                        break;\n",
       "                    }\n",
       "                }\n",
       "            }, 500);\n",
       "            "
      ],
      "text/plain": [
       "<IPython.core.display.Javascript object>"
      ]
     },
     "metadata": {},
     "output_type": "display_data"
    }
   ],
   "source": [
    "files_folder = (\n",
    "    r\"C:\\Users\\daniel.andrade\\Documents\\repos\\social_media_text_classification\\files\"\n",
    ")"
   ]
  },
  {
   "cell_type": "code",
   "execution_count": 113,
   "metadata": {},
   "outputs": [
    {
     "data": {
      "text/html": [
       "<div>\n",
       "<style scoped>\n",
       "    .dataframe tbody tr th:only-of-type {\n",
       "        vertical-align: middle;\n",
       "    }\n",
       "\n",
       "    .dataframe tbody tr th {\n",
       "        vertical-align: top;\n",
       "    }\n",
       "\n",
       "    .dataframe thead th {\n",
       "        text-align: right;\n",
       "    }\n",
       "</style>\n",
       "<table border=\"1\" class=\"dataframe\">\n",
       "  <thead>\n",
       "    <tr style=\"text-align: right;\">\n",
       "      <th></th>\n",
       "      <th>comment</th>\n",
       "      <th>language</th>\n",
       "      <th>translation</th>\n",
       "      <th>harmful</th>\n",
       "      <th>harmful_type</th>\n",
       "    </tr>\n",
       "  </thead>\n",
       "  <tbody>\n",
       "    <tr>\n",
       "      <th>0</th>\n",
       "      <td>Эх, была б такая страна, а так придётся перепл...</td>\n",
       "      <td>ru</td>\n",
       "      <td>Oh, there was such a country, and you have to ...</td>\n",
       "      <td>1</td>\n",
       "      <td>7</td>\n",
       "    </tr>\n",
       "    <tr>\n",
       "      <th>1</th>\n",
       "      <td>Jajajaja para eso se las compro al top manta</td>\n",
       "      <td>es</td>\n",
       "      <td>Hahahaha for that I buy them the top blanket</td>\n",
       "      <td>0</td>\n",
       "      <td>0</td>\n",
       "    </tr>\n",
       "    <tr>\n",
       "      <th>2</th>\n",
       "      <td>idomu ar cia fake</td>\n",
       "      <td>lt</td>\n",
       "      <td>This is a fake one</td>\n",
       "      <td>1</td>\n",
       "      <td>7</td>\n",
       "    </tr>\n",
       "    <tr>\n",
       "      <th>3</th>\n",
       "      <td>Usenme como botón de dislike</td>\n",
       "      <td>gl</td>\n",
       "      <td>Use me as a dislike button</td>\n",
       "      <td>1</td>\n",
       "      <td>7</td>\n",
       "    </tr>\n",
       "    <tr>\n",
       "      <th>4</th>\n",
       "      <td>Можна замовити?</td>\n",
       "      <td>uk</td>\n",
       "      <td>Can I order?</td>\n",
       "      <td>0</td>\n",
       "      <td>0</td>\n",
       "    </tr>\n",
       "  </tbody>\n",
       "</table>\n",
       "</div>"
      ],
      "text/plain": [
       "                                             comment language  \\\n",
       "0  Эх, была б такая страна, а так придётся перепл...       ru   \n",
       "1       Jajajaja para eso se las compro al top manta       es   \n",
       "2                                  idomu ar cia fake       lt   \n",
       "3                       Usenme como botón de dislike       gl   \n",
       "4                                    Можна замовити?       uk   \n",
       "\n",
       "                                         translation  harmful  harmful_type  \n",
       "0  Oh, there was such a country, and you have to ...        1             7  \n",
       "1       Hahahaha for that I buy them the top blanket        0             0  \n",
       "2                                 This is a fake one        1             7  \n",
       "3                         Use me as a dislike button        1             7  \n",
       "4                                       Can I order?        0             0  "
      ]
     },
     "execution_count": 113,
     "metadata": {},
     "output_type": "execute_result"
    },
    {
     "data": {
      "application/javascript": [
       "\n",
       "            setTimeout(function() {\n",
       "                var nbb_cell_id = 113;\n",
       "                var nbb_formatted_code = \"df = pd.read_csv(files_folder + \\\"\\\\\\\\test_data.csv\\\")\\ndf.head()\";\n",
       "                var nbb_cells = Jupyter.notebook.get_cells();\n",
       "                for (var i = 0; i < nbb_cells.length; ++i) {\n",
       "                    if (nbb_cells[i].input_prompt_number == nbb_cell_id) {\n",
       "                        nbb_cells[i].set_text(nbb_formatted_code);\n",
       "                        break;\n",
       "                    }\n",
       "                }\n",
       "            }, 500);\n",
       "            "
      ],
      "text/plain": [
       "<IPython.core.display.Javascript object>"
      ]
     },
     "metadata": {},
     "output_type": "display_data"
    }
   ],
   "source": [
    "df = pd.read_csv(files_folder + \"\\\\test_data.csv\")\n",
    "df.head()"
   ]
  },
  {
   "cell_type": "code",
   "execution_count": 11,
   "metadata": {},
   "outputs": [
    {
     "data": {
      "application/javascript": [
       "\n",
       "            setTimeout(function() {\n",
       "                var nbb_cell_id = 11;\n",
       "                var nbb_formatted_code = \"# drop missing values\\ndf = df.dropna(how=\\\"any\\\")\";\n",
       "                var nbb_cells = Jupyter.notebook.get_cells();\n",
       "                for (var i = 0; i < nbb_cells.length; ++i) {\n",
       "                    if (nbb_cells[i].input_prompt_number == nbb_cell_id) {\n",
       "                        nbb_cells[i].set_text(nbb_formatted_code);\n",
       "                        break;\n",
       "                    }\n",
       "                }\n",
       "            }, 500);\n",
       "            "
      ],
      "text/plain": [
       "<IPython.core.display.Javascript object>"
      ]
     },
     "metadata": {},
     "output_type": "display_data"
    }
   ],
   "source": [
    "# drop missing values\n",
    "df = df.dropna(how=\"any\")"
   ]
  },
  {
   "cell_type": "code",
   "execution_count": 12,
   "metadata": {},
   "outputs": [
    {
     "data": {
      "application/javascript": [
       "\n",
       "            setTimeout(function() {\n",
       "                var nbb_cell_id = 12;\n",
       "                var nbb_formatted_code = \"# df[\\\"translation_clean\\\"] = df[\\\"translation\\\"].apply(text_utils.clean_spec)\\ndf[\\\"translation_clean\\\"] = [emoji.demojize(x) for x in df[\\\"translation\\\"]]\";\n",
       "                var nbb_cells = Jupyter.notebook.get_cells();\n",
       "                for (var i = 0; i < nbb_cells.length; ++i) {\n",
       "                    if (nbb_cells[i].input_prompt_number == nbb_cell_id) {\n",
       "                        nbb_cells[i].set_text(nbb_formatted_code);\n",
       "                        break;\n",
       "                    }\n",
       "                }\n",
       "            }, 500);\n",
       "            "
      ],
      "text/plain": [
       "<IPython.core.display.Javascript object>"
      ]
     },
     "metadata": {},
     "output_type": "display_data"
    }
   ],
   "source": [
    "# demojize text\n",
    "df[\"translation_clean\"] = [emoji.demojize(x) for x in df[\"translation\"]]"
   ]
  },
  {
   "cell_type": "code",
   "execution_count": 14,
   "metadata": {},
   "outputs": [
    {
     "data": {
      "application/javascript": [
       "\n",
       "            setTimeout(function() {\n",
       "                var nbb_cell_id = 14;\n",
       "                var nbb_formatted_code = \"# clean comments\\ndf[\\\"translation_clean\\\"] = df[\\\"translation_clean\\\"].apply(\\n    lambda x: text_utils.clean_text(x)\\n)\";\n",
       "                var nbb_cells = Jupyter.notebook.get_cells();\n",
       "                for (var i = 0; i < nbb_cells.length; ++i) {\n",
       "                    if (nbb_cells[i].input_prompt_number == nbb_cell_id) {\n",
       "                        nbb_cells[i].set_text(nbb_formatted_code);\n",
       "                        break;\n",
       "                    }\n",
       "                }\n",
       "            }, 500);\n",
       "            "
      ],
      "text/plain": [
       "<IPython.core.display.Javascript object>"
      ]
     },
     "metadata": {},
     "output_type": "display_data"
    }
   ],
   "source": [
    "# clean comments\n",
    "df[\"translation_clean\"] = df[\"translation_clean\"].apply(\n",
    "    lambda x: text_utils.clean_text(x)\n",
    ")"
   ]
  },
  {
   "cell_type": "code",
   "execution_count": 15,
   "metadata": {},
   "outputs": [
    {
     "data": {
      "text/html": [
       "<div>\n",
       "<style scoped>\n",
       "    .dataframe tbody tr th:only-of-type {\n",
       "        vertical-align: middle;\n",
       "    }\n",
       "\n",
       "    .dataframe tbody tr th {\n",
       "        vertical-align: top;\n",
       "    }\n",
       "\n",
       "    .dataframe thead th {\n",
       "        text-align: right;\n",
       "    }\n",
       "</style>\n",
       "<table border=\"1\" class=\"dataframe\">\n",
       "  <thead>\n",
       "    <tr style=\"text-align: right;\">\n",
       "      <th></th>\n",
       "      <th>comment</th>\n",
       "      <th>language</th>\n",
       "      <th>translation</th>\n",
       "      <th>harmful</th>\n",
       "      <th>harmful_type</th>\n",
       "      <th>translation_clean</th>\n",
       "    </tr>\n",
       "  </thead>\n",
       "  <tbody>\n",
       "    <tr>\n",
       "      <th>0</th>\n",
       "      <td>Эх, была б такая страна, а так придётся перепл...</td>\n",
       "      <td>ru</td>\n",
       "      <td>Oh, there was such a country, and you have to ...</td>\n",
       "      <td>1</td>\n",
       "      <td>7</td>\n",
       "      <td>oh country overpay</td>\n",
       "    </tr>\n",
       "    <tr>\n",
       "      <th>1</th>\n",
       "      <td>Jajajaja para eso se las compro al top manta</td>\n",
       "      <td>es</td>\n",
       "      <td>Hahahaha for that I buy them the top blanket</td>\n",
       "      <td>0</td>\n",
       "      <td>0</td>\n",
       "      <td>hahahaha buy top blanket</td>\n",
       "    </tr>\n",
       "    <tr>\n",
       "      <th>2</th>\n",
       "      <td>idomu ar cia fake</td>\n",
       "      <td>lt</td>\n",
       "      <td>This is a fake one</td>\n",
       "      <td>1</td>\n",
       "      <td>7</td>\n",
       "      <td>fake one</td>\n",
       "    </tr>\n",
       "    <tr>\n",
       "      <th>3</th>\n",
       "      <td>Usenme como botón de dislike</td>\n",
       "      <td>gl</td>\n",
       "      <td>Use me as a dislike button</td>\n",
       "      <td>1</td>\n",
       "      <td>7</td>\n",
       "      <td>use dislike button</td>\n",
       "    </tr>\n",
       "    <tr>\n",
       "      <th>4</th>\n",
       "      <td>Можна замовити?</td>\n",
       "      <td>uk</td>\n",
       "      <td>Can I order?</td>\n",
       "      <td>0</td>\n",
       "      <td>0</td>\n",
       "      <td>order</td>\n",
       "    </tr>\n",
       "  </tbody>\n",
       "</table>\n",
       "</div>"
      ],
      "text/plain": [
       "                                             comment language  \\\n",
       "0  Эх, была б такая страна, а так придётся перепл...       ru   \n",
       "1       Jajajaja para eso se las compro al top manta       es   \n",
       "2                                  idomu ar cia fake       lt   \n",
       "3                       Usenme como botón de dislike       gl   \n",
       "4                                    Можна замовити?       uk   \n",
       "\n",
       "                                         translation  harmful  harmful_type  \\\n",
       "0  Oh, there was such a country, and you have to ...        1             7   \n",
       "1       Hahahaha for that I buy them the top blanket        0             0   \n",
       "2                                 This is a fake one        1             7   \n",
       "3                         Use me as a dislike button        1             7   \n",
       "4                                       Can I order?        0             0   \n",
       "\n",
       "          translation_clean  \n",
       "0        oh country overpay  \n",
       "1  hahahaha buy top blanket  \n",
       "2                  fake one  \n",
       "3        use dislike button  \n",
       "4                     order  "
      ]
     },
     "execution_count": 15,
     "metadata": {},
     "output_type": "execute_result"
    },
    {
     "data": {
      "application/javascript": [
       "\n",
       "            setTimeout(function() {\n",
       "                var nbb_cell_id = 15;\n",
       "                var nbb_formatted_code = \"df.head()\";\n",
       "                var nbb_cells = Jupyter.notebook.get_cells();\n",
       "                for (var i = 0; i < nbb_cells.length; ++i) {\n",
       "                    if (nbb_cells[i].input_prompt_number == nbb_cell_id) {\n",
       "                        nbb_cells[i].set_text(nbb_formatted_code);\n",
       "                        break;\n",
       "                    }\n",
       "                }\n",
       "            }, 500);\n",
       "            "
      ],
      "text/plain": [
       "<IPython.core.display.Javascript object>"
      ]
     },
     "metadata": {},
     "output_type": "display_data"
    }
   ],
   "source": [
    "df.head()"
   ]
  },
  {
   "cell_type": "code",
   "execution_count": 16,
   "metadata": {},
   "outputs": [
    {
     "data": {
      "text/plain": [
       "(28076, 6)"
      ]
     },
     "execution_count": 16,
     "metadata": {},
     "output_type": "execute_result"
    },
    {
     "data": {
      "application/javascript": [
       "\n",
       "            setTimeout(function() {\n",
       "                var nbb_cell_id = 16;\n",
       "                var nbb_formatted_code = \"df.shape\";\n",
       "                var nbb_cells = Jupyter.notebook.get_cells();\n",
       "                for (var i = 0; i < nbb_cells.length; ++i) {\n",
       "                    if (nbb_cells[i].input_prompt_number == nbb_cell_id) {\n",
       "                        nbb_cells[i].set_text(nbb_formatted_code);\n",
       "                        break;\n",
       "                    }\n",
       "                }\n",
       "            }, 500);\n",
       "            "
      ],
      "text/plain": [
       "<IPython.core.display.Javascript object>"
      ]
     },
     "metadata": {},
     "output_type": "display_data"
    }
   ],
   "source": [
    "df.shape"
   ]
  },
  {
   "cell_type": "code",
   "execution_count": 19,
   "metadata": {},
   "outputs": [
    {
     "name": "stdout",
     "output_type": "stream",
     "text": [
      "mean length of sentence: 8.38545376834307\n",
      "max length of sentence: 719\n",
      "std dev length of sentence: 13.236868853213887\n"
     ]
    },
    {
     "data": {
      "application/javascript": [
       "\n",
       "            setTimeout(function() {\n",
       "                var nbb_cell_id = 19;\n",
       "                var nbb_formatted_code = \"df_sample[\\\"l\\\"] = df_sample[\\\"translation\\\"].apply(lambda x: len(str(x).split(\\\" \\\")))\\nprint(\\\"mean length of sentence: \\\" + str(df_sample.l.mean()))\\nprint(\\\"max length of sentence: \\\" + str(df_sample.l.max()))\\nprint(\\\"std dev length of sentence: \\\" + str(df_sample.l.std()))\";\n",
       "                var nbb_cells = Jupyter.notebook.get_cells();\n",
       "                for (var i = 0; i < nbb_cells.length; ++i) {\n",
       "                    if (nbb_cells[i].input_prompt_number == nbb_cell_id) {\n",
       "                        nbb_cells[i].set_text(nbb_formatted_code);\n",
       "                        break;\n",
       "                    }\n",
       "                }\n",
       "            }, 500);\n",
       "            "
      ],
      "text/plain": [
       "<IPython.core.display.Javascript object>"
      ]
     },
     "metadata": {},
     "output_type": "display_data"
    }
   ],
   "source": [
    "df[\"l\"] = df[\"translation\"].apply(lambda x: len(str(x).split(\" \")))\n",
    "print(\"mean length of sentence: \" + str(df.l.mean()))\n",
    "print(\"max length of sentence: \" + str(df.l.max()))\n",
    "print(\"std dev length of sentence: \" + str(df.l.std()))"
   ]
  },
  {
   "cell_type": "code",
   "execution_count": 20,
   "metadata": {},
   "outputs": [
    {
     "data": {
      "application/javascript": [
       "\n",
       "            setTimeout(function() {\n",
       "                var nbb_cell_id = 20;\n",
       "                var nbb_formatted_code = \"sequence_length = 50\";\n",
       "                var nbb_cells = Jupyter.notebook.get_cells();\n",
       "                for (var i = 0; i < nbb_cells.length; ++i) {\n",
       "                    if (nbb_cells[i].input_prompt_number == nbb_cell_id) {\n",
       "                        nbb_cells[i].set_text(nbb_formatted_code);\n",
       "                        break;\n",
       "                    }\n",
       "                }\n",
       "            }, 500);\n",
       "            "
      ],
      "text/plain": [
       "<IPython.core.display.Javascript object>"
      ]
     },
     "metadata": {},
     "output_type": "display_data"
    }
   ],
   "source": [
    "sequence_length = 50"
   ]
  },
  {
   "cell_type": "code",
   "execution_count": 93,
   "metadata": {},
   "outputs": [
    {
     "name": "stdout",
     "output_type": "stream",
     "text": [
      "test set size 2808\n"
     ]
    },
    {
     "data": {
      "application/javascript": [
       "\n",
       "            setTimeout(function() {\n",
       "                var nbb_cell_id = 93;\n",
       "                var nbb_formatted_code = \"max_features = 20000  # this is the number of words we care about\\n\\ntokenizer = Tokenizer(num_words=max_features, split=\\\" \\\", oov_token=\\\"<unw>\\\", filters=\\\" \\\")\\ntokenizer.fit_on_texts(df_sample[\\\"translation_clean\\\"].values)\\n\\n# this takes our sentences and replaces each word with an integer\\nX = tokenizer.texts_to_sequences(df_sample[\\\"translation_clean\\\"].values)\\n\\n# we then pad the sequences so they're all the same length (sequence_length)\\nX = pad_sequences(X, sequence_length)\\n\\ny = pd.get_dummies(df_sample[\\\"harmful\\\"]).values\\n\\n# lets keep a couple of thousand samples back as a test set\\nX_train, X_test, y_train, y_test = train_test_split(\\n    X, y, test_size=0.1, random_state=42\\n)\\n\\nprint(\\\"test set size \\\" + str(len(X_test)))\";\n",
       "                var nbb_cells = Jupyter.notebook.get_cells();\n",
       "                for (var i = 0; i < nbb_cells.length; ++i) {\n",
       "                    if (nbb_cells[i].input_prompt_number == nbb_cell_id) {\n",
       "                        nbb_cells[i].set_text(nbb_formatted_code);\n",
       "                        break;\n",
       "                    }\n",
       "                }\n",
       "            }, 500);\n",
       "            "
      ],
      "text/plain": [
       "<IPython.core.display.Javascript object>"
      ]
     },
     "metadata": {},
     "output_type": "display_data"
    }
   ],
   "source": [
    "max_features = 20000  # this is the number of words we care about\n",
    "\n",
    "tokenizer = Tokenizer(num_words=max_features, split=\" \", oov_token=\"<unw>\", filters=\" \")\n",
    "tokenizer.fit_on_texts(df[\"translation_clean\"].values)\n",
    "\n",
    "# this takes our sentences and replaces each word with an integer\n",
    "X = tokenizer.texts_to_sequences(df[\"translation_clean\"].values)\n",
    "\n",
    "# we then pad the sequences so they're all the same length (sequence_length)\n",
    "X = pad_sequences(X, sequence_length)\n",
    "\n",
    "y = pd.get_dummies(df[\"harmful\"]).values\n",
    "\n",
    "# lets keep a couple of thousand samples back as a test set\n",
    "X_train, X_test, y_train, y_test = train_test_split(\n",
    "    X, y, test_size=0.1, random_state=42\n",
    ")\n",
    "\n",
    "print(\"test set size \" + str(len(X_test)))"
   ]
  },
  {
   "cell_type": "code",
   "execution_count": 23,
   "metadata": {},
   "outputs": [
    {
     "name": "stdout",
     "output_type": "stream",
     "text": [
      "Found 400000 word vectors.\n"
     ]
    },
    {
     "data": {
      "application/javascript": [
       "\n",
       "            setTimeout(function() {\n",
       "                var nbb_cell_id = 23;\n",
       "                var nbb_formatted_code = \"embeddings_index = {}\\nf = open(\\n    os.path.join(\\n        r\\\"C:\\\\Users\\\\daniel.andrade\\\\Documents\\\\DANIEL\\\\glove.6B\\\", \\\"glove.6B.100d.txt\\\"\\n    ),\\n    encoding=\\\"utf8\\\",\\n)\\nfor line in f:\\n    values = line.split()\\n    word = values[0]\\n    coefs = np.asarray(values[1:], dtype=\\\"float32\\\")\\n    embeddings_index[word] = coefs\\nf.close()\\n\\nprint(\\\"Found %s word vectors.\\\" % len(embeddings_index))\";\n",
       "                var nbb_cells = Jupyter.notebook.get_cells();\n",
       "                for (var i = 0; i < nbb_cells.length; ++i) {\n",
       "                    if (nbb_cells[i].input_prompt_number == nbb_cell_id) {\n",
       "                        nbb_cells[i].set_text(nbb_formatted_code);\n",
       "                        break;\n",
       "                    }\n",
       "                }\n",
       "            }, 500);\n",
       "            "
      ],
      "text/plain": [
       "<IPython.core.display.Javascript object>"
      ]
     },
     "metadata": {},
     "output_type": "display_data"
    }
   ],
   "source": [
    "embeddings_index = {}\n",
    "f = open(\n",
    "    os.path.join(\n",
    "        r\"C:\\Users\\daniel.andrade\\Documents\\DANIEL\\glove.6B\", \"glove.6B.100d.txt\"\n",
    "    ),\n",
    "    encoding=\"utf8\",\n",
    ")\n",
    "for line in f:\n",
    "    values = line.split()\n",
    "    word = values[0]\n",
    "    coefs = np.asarray(values[1:], dtype=\"float32\")\n",
    "    embeddings_index[word] = coefs\n",
    "f.close()\n",
    "\n",
    "print(\"Found %s word vectors.\" % len(embeddings_index))"
   ]
  },
  {
   "cell_type": "code",
   "execution_count": 24,
   "metadata": {},
   "outputs": [
    {
     "name": "stdout",
     "output_type": "stream",
     "text": [
      "Found 15940 unique tokens.\n"
     ]
    },
    {
     "data": {
      "application/javascript": [
       "\n",
       "            setTimeout(function() {\n",
       "                var nbb_cell_id = 24;\n",
       "                var nbb_formatted_code = \"word_index = tokenizer.word_index\\nprint(\\\"Found %s unique tokens.\\\" % len(word_index))\";\n",
       "                var nbb_cells = Jupyter.notebook.get_cells();\n",
       "                for (var i = 0; i < nbb_cells.length; ++i) {\n",
       "                    if (nbb_cells[i].input_prompt_number == nbb_cell_id) {\n",
       "                        nbb_cells[i].set_text(nbb_formatted_code);\n",
       "                        break;\n",
       "                    }\n",
       "                }\n",
       "            }, 500);\n",
       "            "
      ],
      "text/plain": [
       "<IPython.core.display.Javascript object>"
      ]
     },
     "metadata": {},
     "output_type": "display_data"
    }
   ],
   "source": [
    "word_index = tokenizer.word_index\n",
    "print(\"Found %s unique tokens.\" % len(word_index))"
   ]
  },
  {
   "cell_type": "code",
   "execution_count": null,
   "metadata": {},
   "outputs": [],
   "source": [
    "num_words = min(max_features, len(word_index)) + 1\n",
    "print(num_words)"
   ]
  },
  {
   "cell_type": "code",
   "execution_count": 26,
   "metadata": {},
   "outputs": [
    {
     "data": {
      "application/javascript": [
       "\n",
       "            setTimeout(function() {\n",
       "                var nbb_cell_id = 26;\n",
       "                var nbb_formatted_code = \"embedding_dim = 100\\n\\n# first create a matrix of zeros, this is our embedding matrix\\nembedding_matrix = np.zeros((num_words, embedding_dim))\\n\\n# for each word in out tokenizer lets try to find that work in our w2v model\\nfor word, i in word_index.items():\\n    if i > max_features:\\n        continue\\n    embedding_vector = embeddings_index.get(word)\\n    if embedding_vector is not None:\\n        # we found the word - add that words vector to the matrix\\n        embedding_matrix[i] = embedding_vector\\n    else:\\n        # doesn't exist, assign a random vector\\n        embedding_matrix[i] = np.random.randn(embedding_dim)\";\n",
       "                var nbb_cells = Jupyter.notebook.get_cells();\n",
       "                for (var i = 0; i < nbb_cells.length; ++i) {\n",
       "                    if (nbb_cells[i].input_prompt_number == nbb_cell_id) {\n",
       "                        nbb_cells[i].set_text(nbb_formatted_code);\n",
       "                        break;\n",
       "                    }\n",
       "                }\n",
       "            }, 500);\n",
       "            "
      ],
      "text/plain": [
       "<IPython.core.display.Javascript object>"
      ]
     },
     "metadata": {},
     "output_type": "display_data"
    }
   ],
   "source": [
    "embedding_dim = 100\n",
    "\n",
    "# first create a matrix of zeros, this is our embedding matrix\n",
    "embedding_matrix = np.zeros((num_words, embedding_dim))\n",
    "\n",
    "# for each word in out tokenizer lets try to find that work in our w2v model\n",
    "for word, i in word_index.items():\n",
    "    if i > max_features:\n",
    "        continue\n",
    "    embedding_vector = embeddings_index.get(word)\n",
    "    if embedding_vector is not None:\n",
    "        # we found the word - add that words vector to the matrix\n",
    "        embedding_matrix[i] = embedding_vector\n",
    "    else:\n",
    "        # doesn't exist, assign a random vector\n",
    "        embedding_matrix[i] = np.random.randn(embedding_dim)"
   ]
  },
  {
   "cell_type": "code",
   "execution_count": 102,
   "metadata": {
    "scrolled": true
   },
   "outputs": [
    {
     "name": "stdout",
     "output_type": "stream",
     "text": [
      "Model: \"sequential_24\"\n",
      "_________________________________________________________________\n",
      "Layer (type)                 Output Shape              Param #   \n",
      "=================================================================\n",
      "embedding_24 (Embedding)     (None, 50, 100)           1594100   \n",
      "_________________________________________________________________\n",
      "bidirectional_45 (Bidirectio (None, 50, 256)           234496    \n",
      "_________________________________________________________________\n",
      "dropout_40 (Dropout)         (None, 50, 256)           0         \n",
      "_________________________________________________________________\n",
      "bidirectional_46 (Bidirectio (None, 128)               164352    \n",
      "_________________________________________________________________\n",
      "dropout_41 (Dropout)         (None, 128)               0         \n",
      "_________________________________________________________________\n",
      "dense_18 (Dense)             (None, 2)                 258       \n",
      "=================================================================\n",
      "Total params: 1,993,206\n",
      "Trainable params: 1,993,206\n",
      "Non-trainable params: 0\n",
      "_________________________________________________________________\n",
      "None\n"
     ]
    },
    {
     "data": {
      "application/javascript": [
       "\n",
       "            setTimeout(function() {\n",
       "                var nbb_cell_id = 102;\n",
       "                var nbb_formatted_code = \"from keras import optimizers\\n\\nadam = optimizers.Adam(lr=0.00001)\\n\\nmodel = Sequential()\\nmodel.add(\\n    Embedding(\\n        num_words,\\n        embedding_dim,\\n        embeddings_initializer=Constant(embedding_matrix),\\n        input_length=sequence_length,\\n        trainable=True,\\n    )\\n)\\n\\nmodel.add(Bidirectional(LSTM(128, return_sequences=True)))\\nmodel.add(Dropout(0.5))\\nmodel.add(Bidirectional(LSTM(64)))\\nmodel.add(Dropout(0.25))\\nmodel.add(Dense(units=y_train.shape[1], activation=\\\"sigmoid\\\"))\\nmodel.compile(loss=\\\"binary_crossentropy\\\", optimizer=adam, metrics=[\\\"accuracy\\\"])\\nprint(model.summary())\";\n",
       "                var nbb_cells = Jupyter.notebook.get_cells();\n",
       "                for (var i = 0; i < nbb_cells.length; ++i) {\n",
       "                    if (nbb_cells[i].input_prompt_number == nbb_cell_id) {\n",
       "                        nbb_cells[i].set_text(nbb_formatted_code);\n",
       "                        break;\n",
       "                    }\n",
       "                }\n",
       "            }, 500);\n",
       "            "
      ],
      "text/plain": [
       "<IPython.core.display.Javascript object>"
      ]
     },
     "metadata": {},
     "output_type": "display_data"
    }
   ],
   "source": [
    "model = Sequential()\n",
    "model.add(\n",
    "    Embedding(\n",
    "        num_words,\n",
    "        embedding_dim,\n",
    "        embeddings_initializer=Constant(embedding_matrix),\n",
    "        input_length=sequence_length,\n",
    "        trainable=True,\n",
    "    )\n",
    ")\n",
    "\n",
    "model.add(Bidirectional(LSTM(128, return_sequences=True)))\n",
    "model.add(Dropout(0.5))\n",
    "model.add(Bidirectional(LSTM(64)))\n",
    "model.add(Dropout(0.25))\n",
    "model.add(Dense(units=y_train.shape[1], activation=\"sigmoid\"))\n",
    "\n",
    "adam = optimizers.Adam(lr=0.00001)\n",
    "\n",
    "model.compile(loss=\"binary_crossentropy\", optimizer=adam, metrics=[\"accuracy\"])\n",
    "print(model.summary())"
   ]
  },
  {
   "cell_type": "code",
   "execution_count": 64,
   "metadata": {
    "scrolled": false
   },
   "outputs": [
    {
     "name": "stdout",
     "output_type": "stream",
     "text": [
      "Train on 22741 samples, validate on 2527 samples\n",
      "Epoch 1/100\n",
      "22741/22741 [==============================] - 147s 6ms/step - loss: 0.6876 - acc: 0.5792 - val_loss: 0.6817 - val_acc: 0.6433\n",
      "Epoch 2/100\n",
      "22741/22741 [==============================] - 157s 7ms/step - loss: 0.6777 - acc: 0.6142 - val_loss: 0.6712 - val_acc: 0.6003\n",
      "Epoch 3/100\n",
      "22741/22741 [==============================] - 160s 7ms/step - loss: 0.6660 - acc: 0.6109 - val_loss: 0.6569 - val_acc: 0.6082\n",
      "Epoch 4/100\n",
      "22741/22741 [==============================] - 146s 6ms/step - loss: 0.6481 - acc: 0.6248 - val_loss: 0.6342 - val_acc: 0.6340\n",
      "Epoch 5/100\n",
      "22741/22741 [==============================] - 141s 6ms/step - loss: 0.6200 - acc: 0.6619 - val_loss: 0.6011 - val_acc: 0.6838\n",
      "Epoch 6/100\n",
      "22741/22741 [==============================] - 147s 6ms/step - loss: 0.5807 - acc: 0.7134 - val_loss: 0.5606 - val_acc: 0.7337\n",
      "Epoch 7/100\n",
      "22741/22741 [==============================] - 146s 6ms/step - loss: 0.5421 - acc: 0.7351 - val_loss: 0.5310 - val_acc: 0.7390\n",
      "Epoch 8/100\n",
      "22741/22741 [==============================] - 146s 6ms/step - loss: 0.5179 - acc: 0.7450 - val_loss: 0.5090 - val_acc: 0.7461\n",
      "Epoch 9/100\n",
      "22741/22741 [==============================] - 150s 7ms/step - loss: 0.5026 - acc: 0.7524 - val_loss: 0.4961 - val_acc: 0.7491\n",
      "Epoch 10/100\n",
      "22741/22741 [==============================] - 144s 6ms/step - loss: 0.4942 - acc: 0.7562 - val_loss: 0.4885 - val_acc: 0.7521\n",
      "Epoch 11/100\n",
      "22741/22741 [==============================] - 147s 6ms/step - loss: 0.4871 - acc: 0.7606 - val_loss: 0.4828 - val_acc: 0.7537\n",
      "Epoch 12/100\n",
      "22741/22741 [==============================] - 145s 6ms/step - loss: 0.4821 - acc: 0.7627 - val_loss: 0.4785 - val_acc: 0.7554\n",
      "Epoch 13/100\n",
      "22741/22741 [==============================] - 147s 6ms/step - loss: 0.4779 - acc: 0.7651 - val_loss: 0.4741 - val_acc: 0.7576\n",
      "Epoch 14/100\n",
      "22741/22741 [==============================] - 146s 6ms/step - loss: 0.4744 - acc: 0.7667 - val_loss: 0.4713 - val_acc: 0.7598\n",
      "Epoch 15/100\n",
      "22741/22741 [==============================] - 152s 7ms/step - loss: 0.4701 - acc: 0.7702 - val_loss: 0.4677 - val_acc: 0.7624\n",
      "Epoch 16/100\n",
      "22741/22741 [==============================] - 157s 7ms/step - loss: 0.4668 - acc: 0.7708 - val_loss: 0.4642 - val_acc: 0.7651\n",
      "Epoch 17/100\n",
      "22741/22741 [==============================] - 159s 7ms/step - loss: 0.4635 - acc: 0.7731 - val_loss: 0.4615 - val_acc: 0.7657\n",
      "Epoch 18/100\n",
      "22741/22741 [==============================] - 149s 7ms/step - loss: 0.4604 - acc: 0.7742 - val_loss: 0.4591 - val_acc: 0.7671\n",
      "Epoch 19/100\n",
      "22741/22741 [==============================] - 151s 7ms/step - loss: 0.4579 - acc: 0.7761 - val_loss: 0.4566 - val_acc: 0.7679\n",
      "Epoch 20/100\n",
      "22741/22741 [==============================] - 152s 7ms/step - loss: 0.4542 - acc: 0.7779 - val_loss: 0.4549 - val_acc: 0.7707\n",
      "Epoch 21/100\n",
      "22741/22741 [==============================] - 149s 7ms/step - loss: 0.4524 - acc: 0.7784 - val_loss: 0.4526 - val_acc: 0.7729\n",
      "Epoch 22/100\n",
      "22741/22741 [==============================] - 143s 6ms/step - loss: 0.4495 - acc: 0.7803 - val_loss: 0.4510 - val_acc: 0.7711\n",
      "Epoch 23/100\n",
      "22741/22741 [==============================] - 146s 6ms/step - loss: 0.4475 - acc: 0.7806 - val_loss: 0.4487 - val_acc: 0.7744\n",
      "Epoch 24/100\n",
      "22741/22741 [==============================] - 148s 7ms/step - loss: 0.4453 - acc: 0.7823 - val_loss: 0.4470 - val_acc: 0.7740\n",
      "Epoch 25/100\n",
      "22741/22741 [==============================] - 152s 7ms/step - loss: 0.4435 - acc: 0.7834 - val_loss: 0.4466 - val_acc: 0.7764\n",
      "Epoch 26/100\n",
      "22741/22741 [==============================] - 150s 7ms/step - loss: 0.4402 - acc: 0.7851 - val_loss: 0.4441 - val_acc: 0.7762\n",
      "Epoch 27/100\n",
      "22741/22741 [==============================] - 148s 7ms/step - loss: 0.4390 - acc: 0.7849 - val_loss: 0.4426 - val_acc: 0.7778\n",
      "Epoch 28/100\n",
      "22741/22741 [==============================] - 149s 7ms/step - loss: 0.4372 - acc: 0.7866 - val_loss: 0.4410 - val_acc: 0.7792\n",
      "Epoch 29/100\n",
      "22741/22741 [==============================] - 145s 6ms/step - loss: 0.4350 - acc: 0.7886 - val_loss: 0.4398 - val_acc: 0.7806\n",
      "Epoch 30/100\n",
      "22741/22741 [==============================] - 143s 6ms/step - loss: 0.4332 - acc: 0.7882 - val_loss: 0.4383 - val_acc: 0.7806\n",
      "Epoch 31/100\n",
      "22741/22741 [==============================] - 144s 6ms/step - loss: 0.4305 - acc: 0.7903 - val_loss: 0.4386 - val_acc: 0.7825\n",
      "Epoch 32/100\n",
      "22741/22741 [==============================] - 144s 6ms/step - loss: 0.4301 - acc: 0.7907 - val_loss: 0.4357 - val_acc: 0.7829\n",
      "Epoch 33/100\n",
      "22741/22741 [==============================] - 145s 6ms/step - loss: 0.4268 - acc: 0.7913 - val_loss: 0.4348 - val_acc: 0.7814\n",
      "Epoch 34/100\n",
      "22741/22741 [==============================] - 141s 6ms/step - loss: 0.4258 - acc: 0.7928 - val_loss: 0.4333 - val_acc: 0.7837\n",
      "Epoch 35/100\n",
      "22741/22741 [==============================] - 144s 6ms/step - loss: 0.4237 - acc: 0.7944 - val_loss: 0.4331 - val_acc: 0.7835\n",
      "Epoch 36/100\n",
      "22741/22741 [==============================] - 142s 6ms/step - loss: 0.4233 - acc: 0.7936 - val_loss: 0.4310 - val_acc: 0.7877\n",
      "Epoch 37/100\n",
      "22741/22741 [==============================] - 141s 6ms/step - loss: 0.4212 - acc: 0.7951 - val_loss: 0.4305 - val_acc: 0.7867\n",
      "Epoch 38/100\n",
      "22741/22741 [==============================] - 143s 6ms/step - loss: 0.4195 - acc: 0.7962 - val_loss: 0.4288 - val_acc: 0.7883\n",
      "Epoch 39/100\n",
      "22741/22741 [==============================] - 142s 6ms/step - loss: 0.4165 - acc: 0.7972 - val_loss: 0.4284 - val_acc: 0.7891\n",
      "Epoch 40/100\n",
      "22741/22741 [==============================] - 143s 6ms/step - loss: 0.4153 - acc: 0.7978 - val_loss: 0.4273 - val_acc: 0.7909\n",
      "Epoch 41/100\n",
      "22741/22741 [==============================] - 142s 6ms/step - loss: 0.4142 - acc: 0.7988 - val_loss: 0.4268 - val_acc: 0.7867\n",
      "Epoch 42/100\n",
      "22741/22741 [==============================] - 143s 6ms/step - loss: 0.4131 - acc: 0.7994 - val_loss: 0.4258 - val_acc: 0.7879\n",
      "Epoch 43/100\n",
      "22741/22741 [==============================] - 144s 6ms/step - loss: 0.4111 - acc: 0.7999 - val_loss: 0.4245 - val_acc: 0.7891\n",
      "Epoch 44/100\n",
      "22741/22741 [==============================] - 142s 6ms/step - loss: 0.4090 - acc: 0.8011 - val_loss: 0.4240 - val_acc: 0.7887\n",
      "Epoch 45/100\n",
      "22741/22741 [==============================] - 144s 6ms/step - loss: 0.4078 - acc: 0.8024 - val_loss: 0.4231 - val_acc: 0.7942\n",
      "Epoch 46/100\n",
      "22741/22741 [==============================] - 143s 6ms/step - loss: 0.4065 - acc: 0.8030 - val_loss: 0.4223 - val_acc: 0.7940\n",
      "Epoch 47/100\n",
      "22741/22741 [==============================] - 144s 6ms/step - loss: 0.4055 - acc: 0.8043 - val_loss: 0.4206 - val_acc: 0.7956\n",
      "Epoch 48/100\n",
      "22741/22741 [==============================] - 144s 6ms/step - loss: 0.4039 - acc: 0.8052 - val_loss: 0.4196 - val_acc: 0.7954\n",
      "Epoch 49/100\n",
      "22741/22741 [==============================] - 143s 6ms/step - loss: 0.4029 - acc: 0.8053 - val_loss: 0.4195 - val_acc: 0.7966\n",
      "Epoch 50/100\n",
      "22741/22741 [==============================] - 143s 6ms/step - loss: 0.4005 - acc: 0.8052 - val_loss: 0.4188 - val_acc: 0.7966\n",
      "Epoch 51/100\n",
      "22741/22741 [==============================] - 145s 6ms/step - loss: 0.3999 - acc: 0.8057 - val_loss: 0.4186 - val_acc: 0.7954\n",
      "Epoch 52/100\n",
      "22741/22741 [==============================] - 144s 6ms/step - loss: 0.3970 - acc: 0.8072 - val_loss: 0.4177 - val_acc: 0.7970\n",
      "Epoch 53/100\n",
      "22741/22741 [==============================] - 144s 6ms/step - loss: 0.3972 - acc: 0.8083 - val_loss: 0.4166 - val_acc: 0.7966\n",
      "Epoch 54/100\n",
      "22741/22741 [==============================] - 156s 7ms/step - loss: 0.3963 - acc: 0.8083 - val_loss: 0.4162 - val_acc: 0.7966\n",
      "Epoch 55/100\n",
      "22741/22741 [==============================] - 164s 7ms/step - loss: 0.3943 - acc: 0.8088 - val_loss: 0.4149 - val_acc: 0.7974\n",
      "Epoch 56/100\n",
      "22741/22741 [==============================] - 165s 7ms/step - loss: 0.3925 - acc: 0.8096 - val_loss: 0.4148 - val_acc: 0.7982\n",
      "Epoch 57/100\n",
      "22741/22741 [==============================] - 166s 7ms/step - loss: 0.3916 - acc: 0.8106 - val_loss: 0.4146 - val_acc: 0.7988\n",
      "Epoch 58/100\n",
      "22741/22741 [==============================] - 157s 7ms/step - loss: 0.3900 - acc: 0.8112 - val_loss: 0.4135 - val_acc: 0.7990\n",
      "Epoch 59/100\n"
     ]
    },
    {
     "name": "stdout",
     "output_type": "stream",
     "text": [
      "22741/22741 [==============================] - 153s 7ms/step - loss: 0.3885 - acc: 0.8132 - val_loss: 0.4133 - val_acc: 0.7988\n",
      "Epoch 60/100\n",
      "22741/22741 [==============================] - 154s 7ms/step - loss: 0.3874 - acc: 0.8118 - val_loss: 0.4124 - val_acc: 0.7966\n",
      "Epoch 61/100\n",
      "22741/22741 [==============================] - 161s 7ms/step - loss: 0.3862 - acc: 0.8143 - val_loss: 0.4105 - val_acc: 0.7972\n",
      "Epoch 62/100\n",
      "22741/22741 [==============================] - 155s 7ms/step - loss: 0.3852 - acc: 0.8144 - val_loss: 0.4104 - val_acc: 0.7972\n",
      "Epoch 63/100\n",
      "22741/22741 [==============================] - 154s 7ms/step - loss: 0.3836 - acc: 0.8158 - val_loss: 0.4112 - val_acc: 0.7990\n",
      "Epoch 64/100\n",
      "22741/22741 [==============================] - 146s 6ms/step - loss: 0.3819 - acc: 0.8166 - val_loss: 0.4100 - val_acc: 0.7970\n",
      "Epoch 65/100\n",
      "22741/22741 [==============================] - 149s 7ms/step - loss: 0.3814 - acc: 0.8161 - val_loss: 0.4103 - val_acc: 0.8002\n",
      "Epoch 66/100\n",
      "22741/22741 [==============================] - 153s 7ms/step - loss: 0.3806 - acc: 0.8180 - val_loss: 0.4090 - val_acc: 0.7984\n",
      "Epoch 67/100\n",
      "22741/22741 [==============================] - 151s 7ms/step - loss: 0.3793 - acc: 0.8179 - val_loss: 0.4097 - val_acc: 0.7992\n",
      "Epoch 68/100\n",
      "22741/22741 [==============================] - 147s 6ms/step - loss: 0.3781 - acc: 0.8179 - val_loss: 0.4077 - val_acc: 0.7992\n",
      "Epoch 69/100\n",
      "22741/22741 [==============================] - 149s 7ms/step - loss: 0.3763 - acc: 0.8186 - val_loss: 0.4089 - val_acc: 0.7988\n",
      "Epoch 70/100\n",
      "22741/22741 [==============================] - 160s 7ms/step - loss: 0.3752 - acc: 0.8207 - val_loss: 0.4077 - val_acc: 0.8011\n",
      "Epoch 71/100\n",
      "22741/22741 [==============================] - 152s 7ms/step - loss: 0.3743 - acc: 0.8194 - val_loss: 0.4062 - val_acc: 0.8015\n",
      "Epoch 72/100\n",
      "22741/22741 [==============================] - 149s 7ms/step - loss: 0.3721 - acc: 0.8207 - val_loss: 0.4081 - val_acc: 0.7990\n",
      "Epoch 73/100\n",
      "22741/22741 [==============================] - 163s 7ms/step - loss: 0.3722 - acc: 0.8223 - val_loss: 0.4047 - val_acc: 0.8019\n",
      "Epoch 74/100\n",
      "22741/22741 [==============================] - 160s 7ms/step - loss: 0.3705 - acc: 0.8225 - val_loss: 0.4050 - val_acc: 0.8017\n",
      "Epoch 75/100\n",
      "22741/22741 [==============================] - 157s 7ms/step - loss: 0.3693 - acc: 0.8236 - val_loss: 0.4041 - val_acc: 0.8008\n",
      "Epoch 76/100\n",
      "22741/22741 [==============================] - 153s 7ms/step - loss: 0.3691 - acc: 0.8247 - val_loss: 0.4052 - val_acc: 0.8017\n",
      "Epoch 77/100\n",
      "22741/22741 [==============================] - 158s 7ms/step - loss: 0.3669 - acc: 0.8254 - val_loss: 0.4043 - val_acc: 0.8027\n",
      "Epoch 78/100\n",
      "22741/22741 [==============================] - 154s 7ms/step - loss: 0.3661 - acc: 0.8257 - val_loss: 0.4042 - val_acc: 0.8008\n",
      "Epoch 79/100\n",
      "22741/22741 [==============================] - 161s 7ms/step - loss: 0.3640 - acc: 0.8270 - val_loss: 0.4049 - val_acc: 0.8017\n",
      "Epoch 80/100\n",
      "22741/22741 [==============================] - 182s 8ms/step - loss: 0.3632 - acc: 0.8281 - val_loss: 0.4042 - val_acc: 0.8019\n",
      "Epoch 81/100\n",
      "22741/22741 [==============================] - 162s 7ms/step - loss: 0.3618 - acc: 0.8282 - val_loss: 0.4049 - val_acc: 0.8043\n",
      "Epoch 82/100\n",
      "22741/22741 [==============================] - 171s 8ms/step - loss: 0.3611 - acc: 0.8299 - val_loss: 0.4032 - val_acc: 0.8027\n",
      "Epoch 83/100\n",
      "22741/22741 [==============================] - 148s 6ms/step - loss: 0.3605 - acc: 0.8298 - val_loss: 0.4038 - val_acc: 0.8049\n",
      "Epoch 84/100\n",
      "22741/22741 [==============================] - 151s 7ms/step - loss: 0.3588 - acc: 0.8306 - val_loss: 0.4026 - val_acc: 0.8039\n",
      "Epoch 85/100\n",
      "22741/22741 [==============================] - 147s 6ms/step - loss: 0.3573 - acc: 0.8319 - val_loss: 0.4032 - val_acc: 0.8051\n",
      "Epoch 86/100\n",
      "22741/22741 [==============================] - 146s 6ms/step - loss: 0.3564 - acc: 0.8327 - val_loss: 0.4011 - val_acc: 0.8023\n",
      "Epoch 87/100\n",
      "22741/22741 [==============================] - 149s 7ms/step - loss: 0.3564 - acc: 0.8320 - val_loss: 0.4030 - val_acc: 0.8045\n",
      "Epoch 88/100\n",
      "22741/22741 [==============================] - 154s 7ms/step - loss: 0.3547 - acc: 0.8339 - val_loss: 0.4015 - val_acc: 0.8033\n",
      "Epoch 89/100\n",
      "22741/22741 [==============================] - 155s 7ms/step - loss: 0.3531 - acc: 0.8352 - val_loss: 0.4003 - val_acc: 0.8035\n",
      "Epoch 90/100\n",
      "22741/22741 [==============================] - 163s 7ms/step - loss: 0.3515 - acc: 0.8355 - val_loss: 0.4022 - val_acc: 0.8071\n",
      "Epoch 91/100\n",
      "22741/22741 [==============================] - 156s 7ms/step - loss: 0.3508 - acc: 0.8358 - val_loss: 0.4011 - val_acc: 0.8083\n",
      "Epoch 92/100\n",
      "22741/22741 [==============================] - 152s 7ms/step - loss: 0.3508 - acc: 0.8362 - val_loss: 0.4012 - val_acc: 0.8053\n",
      "Epoch 93/100\n",
      "22741/22741 [==============================] - 151s 7ms/step - loss: 0.3499 - acc: 0.8354 - val_loss: 0.4010 - val_acc: 0.8061\n",
      "Epoch 94/100\n",
      "22741/22741 [==============================] - 151s 7ms/step - loss: 0.3483 - acc: 0.8382 - val_loss: 0.4017 - val_acc: 0.8065\n",
      "Epoch 95/100\n",
      "22741/22741 [==============================] - 153s 7ms/step - loss: 0.3475 - acc: 0.8372 - val_loss: 0.3986 - val_acc: 0.8065\n",
      "Epoch 96/100\n",
      "22741/22741 [==============================] - 162s 7ms/step - loss: 0.3465 - acc: 0.8381 - val_loss: 0.4010 - val_acc: 0.8083\n",
      "Epoch 97/100\n",
      "22741/22741 [==============================] - 153s 7ms/step - loss: 0.3454 - acc: 0.8380 - val_loss: 0.4006 - val_acc: 0.8075\n",
      "Epoch 98/100\n",
      "22741/22741 [==============================] - 165s 7ms/step - loss: 0.3439 - acc: 0.8390 - val_loss: 0.3997 - val_acc: 0.8057\n",
      "Epoch 99/100\n",
      "22741/22741 [==============================] - 164s 7ms/step - loss: 0.3426 - acc: 0.8398 - val_loss: 0.4016 - val_acc: 0.8077\n",
      "Epoch 100/100\n",
      "22741/22741 [==============================] - 153s 7ms/step - loss: 0.3423 - acc: 0.8408 - val_loss: 0.4011 - val_acc: 0.8085\n"
     ]
    },
    {
     "data": {
      "application/javascript": [
       "\n",
       "            setTimeout(function() {\n",
       "                var nbb_cell_id = 64;\n",
       "                var nbb_formatted_code = \"n_epochs = 100\\nbatch_size = 128\\ncallbacks = EarlyStopping(monitor=\\\"val_loss\\\", patience=10, verbose=0)\\nhistory = model.fit(\\n    X_train,\\n    y_train,\\n    epochs=n_epochs,\\n    batch_size=batch_size,\\n    verbose=1,\\n    validation_split=0.1,\\n    callbacks=[callbacks],\\n)\";\n",
       "                var nbb_cells = Jupyter.notebook.get_cells();\n",
       "                for (var i = 0; i < nbb_cells.length; ++i) {\n",
       "                    if (nbb_cells[i].input_prompt_number == nbb_cell_id) {\n",
       "                        nbb_cells[i].set_text(nbb_formatted_code);\n",
       "                        break;\n",
       "                    }\n",
       "                }\n",
       "            }, 500);\n",
       "            "
      ],
      "text/plain": [
       "<IPython.core.display.Javascript object>"
      ]
     },
     "metadata": {},
     "output_type": "display_data"
    }
   ],
   "source": [
    "n_epochs = 100\n",
    "batch_size = 128\n",
    "callbacks = EarlyStopping(monitor=\"val_loss\", patience=10, verbose=0)\n",
    "history = model.fit(\n",
    "    X_train,\n",
    "    y_train,\n",
    "    epochs=n_epochs,\n",
    "    batch_size=batch_size,\n",
    "    verbose=1,\n",
    "    validation_split=0.1,\n",
    "    callbacks=[callbacks],\n",
    ")"
   ]
  },
  {
   "cell_type": "code",
   "execution_count": 69,
   "metadata": {},
   "outputs": [
    {
     "data": {
      "application/javascript": [
       "\n",
       "            setTimeout(function() {\n",
       "                var nbb_cell_id = 69;\n",
       "                var nbb_formatted_code = \"model.save(\\\"model_lstm_100_optimized.h5\\\")\";\n",
       "                var nbb_cells = Jupyter.notebook.get_cells();\n",
       "                for (var i = 0; i < nbb_cells.length; ++i) {\n",
       "                    if (nbb_cells[i].input_prompt_number == nbb_cell_id) {\n",
       "                        nbb_cells[i].set_text(nbb_formatted_code);\n",
       "                        break;\n",
       "                    }\n",
       "                }\n",
       "            }, 500);\n",
       "            "
      ],
      "text/plain": [
       "<IPython.core.display.Javascript object>"
      ]
     },
     "metadata": {},
     "output_type": "display_data"
    }
   ],
   "source": [
    "# model.save(files_folder + \"\\\\model_lstm_100_optimized.h5\")"
   ]
  },
  {
   "cell_type": "code",
   "execution_count": 65,
   "metadata": {
    "scrolled": true
   },
   "outputs": [
    {
     "data": {
      "image/png": "[encoded data removed]",
      "text/plain": [
       "<Figure size 432x288 with 1 Axes>"
      ]
     },
     "metadata": {
      "needs_background": "light"
     },
     "output_type": "display_data"
    },
    {
     "data": {
      "image/png": "[encoded data removed]",
      "text/plain": [
       "<Figure size 432x288 with 1 Axes>"
      ]
     },
     "metadata": {
      "needs_background": "light"
     },
     "output_type": "display_data"
    },
    {
     "data": {
      "application/javascript": [
       "\n",
       "            setTimeout(function() {\n",
       "                var nbb_cell_id = 65;\n",
       "                var nbb_formatted_code = \"plt.plot(history.history[\\\"acc\\\"])\\nplt.plot(history.history[\\\"val_acc\\\"])\\nplt.title(\\\"model accuracy\\\")\\nplt.ylabel(\\\"accuracy\\\")\\nplt.xlabel(\\\"epoch\\\")\\nplt.legend([\\\"train\\\", \\\"validation\\\"], loc=\\\"upper left\\\")\\nplt.show()\\n\\nplt.plot(history.history[\\\"loss\\\"])\\nplt.plot(history.history[\\\"val_loss\\\"])\\nplt.title(\\\"model loss\\\")\\nplt.ylabel(\\\"loss\\\")\\nplt.xlabel(\\\"epoch\\\")\\nplt.legend([\\\"train\\\", \\\"validation\\\"], loc=\\\"upper left\\\")\\nplt.show()\";\n",
       "                var nbb_cells = Jupyter.notebook.get_cells();\n",
       "                for (var i = 0; i < nbb_cells.length; ++i) {\n",
       "                    if (nbb_cells[i].input_prompt_number == nbb_cell_id) {\n",
       "                        nbb_cells[i].set_text(nbb_formatted_code);\n",
       "                        break;\n",
       "                    }\n",
       "                }\n",
       "            }, 500);\n",
       "            "
      ],
      "text/plain": [
       "<IPython.core.display.Javascript object>"
      ]
     },
     "metadata": {},
     "output_type": "display_data"
    }
   ],
   "source": [
    "plt.plot(history.history[\"acc\"])\n",
    "plt.plot(history.history[\"val_acc\"])\n",
    "plt.title(\"model accuracy\")\n",
    "plt.ylabel(\"accuracy\")\n",
    "plt.xlabel(\"epoch\")\n",
    "plt.legend([\"train\", \"validation\"], loc=\"upper left\")\n",
    "plt.show()\n",
    "\n",
    "plt.plot(history.history[\"loss\"])\n",
    "plt.plot(history.history[\"val_loss\"])\n",
    "plt.title(\"model loss\")\n",
    "plt.ylabel(\"loss\")\n",
    "plt.xlabel(\"epoch\")\n",
    "plt.legend([\"train\", \"validation\"], loc=\"upper left\")\n",
    "plt.show()"
   ]
  },
  {
   "cell_type": "code",
   "execution_count": 66,
   "metadata": {},
   "outputs": [
    {
     "data": {
      "application/javascript": [
       "\n",
       "            setTimeout(function() {\n",
       "                var nbb_cell_id = 66;\n",
       "                var nbb_formatted_code = \"y_hat = model.predict(X_test)\";\n",
       "                var nbb_cells = Jupyter.notebook.get_cells();\n",
       "                for (var i = 0; i < nbb_cells.length; ++i) {\n",
       "                    if (nbb_cells[i].input_prompt_number == nbb_cell_id) {\n",
       "                        nbb_cells[i].set_text(nbb_formatted_code);\n",
       "                        break;\n",
       "                    }\n",
       "                }\n",
       "            }, 500);\n",
       "            "
      ],
      "text/plain": [
       "<IPython.core.display.Javascript object>"
      ]
     },
     "metadata": {},
     "output_type": "display_data"
    }
   ],
   "source": [
    "y_hat = model.predict(X_test)"
   ]
  },
  {
   "cell_type": "code",
   "execution_count": 67,
   "metadata": {},
   "outputs": [
    {
     "data": {
      "text/plain": [
       "0.801994301994302"
      ]
     },
     "execution_count": 67,
     "metadata": {},
     "output_type": "execute_result"
    },
    {
     "data": {
      "application/javascript": [
       "\n",
       "            setTimeout(function() {\n",
       "                var nbb_cell_id = 67;\n",
       "                var nbb_formatted_code = \"accuracy_score(\\n    list(map(lambda x: np.argmax(x), y_test)), list(map(lambda x: np.argmax(x), y_hat))\\n)\";\n",
       "                var nbb_cells = Jupyter.notebook.get_cells();\n",
       "                for (var i = 0; i < nbb_cells.length; ++i) {\n",
       "                    if (nbb_cells[i].input_prompt_number == nbb_cell_id) {\n",
       "                        nbb_cells[i].set_text(nbb_formatted_code);\n",
       "                        break;\n",
       "                    }\n",
       "                }\n",
       "            }, 500);\n",
       "            "
      ],
      "text/plain": [
       "<IPython.core.display.Javascript object>"
      ]
     },
     "metadata": {},
     "output_type": "display_data"
    }
   ],
   "source": [
    "accuracy_score(\n",
    "    list(map(lambda x: np.argmax(x), y_test)), list(map(lambda x: np.argmax(x), y_hat))\n",
    ")"
   ]
  },
  {
   "cell_type": "code",
   "execution_count": 116,
   "metadata": {},
   "outputs": [
    {
     "name": "stdout",
     "output_type": "stream",
     "text": [
      "Normalized confusion matrix\n"
     ]
    },
    {
     "data": {
      "image/png": "[encoded data removed]",
      "text/plain": [
       "<Figure size 432x288 with 2 Axes>"
      ]
     },
     "metadata": {
      "needs_background": "light"
     },
     "output_type": "display_data"
    },
    {
     "data": {
      "application/javascript": [
       "\n",
       "            setTimeout(function() {\n",
       "                var nbb_cell_id = 116;\n",
       "                var nbb_formatted_code = \"text_utils.plot_confusion_matrix(\\n    list(map(lambda x: np.argmax(x), y_test)),\\n    list(map(lambda x: np.argmax(x), y_hat)),\\n    normalize=True,\\n    classes=[0, 1],\\n    title=\\\"Non-normalized confusion matrix\\\",\\n)\\nplt.show()\";\n",
       "                var nbb_cells = Jupyter.notebook.get_cells();\n",
       "                for (var i = 0; i < nbb_cells.length; ++i) {\n",
       "                    if (nbb_cells[i].input_prompt_number == nbb_cell_id) {\n",
       "                        nbb_cells[i].set_text(nbb_formatted_code);\n",
       "                        break;\n",
       "                    }\n",
       "                }\n",
       "            }, 500);\n",
       "            "
      ],
      "text/plain": [
       "<IPython.core.display.Javascript object>"
      ]
     },
     "metadata": {},
     "output_type": "display_data"
    }
   ],
   "source": [
    "text_utils.plot_confusion_matrix(\n",
    "    list(map(lambda x: np.argmax(x), y_test)),\n",
    "    list(map(lambda x: np.argmax(x), y_hat)),\n",
    "    normalize=True,\n",
    "    classes=[0, 1],\n",
    "    title=\"Normalized confusion matrix\",\n",
    ")\n",
    "plt.show()"
   ]
  },
  {
   "cell_type": "code",
   "execution_count": 103,
   "metadata": {},
   "outputs": [
    {
     "data": {
      "application/javascript": [
       "\n",
       "            setTimeout(function() {\n",
       "                var nbb_cell_id = 103;\n",
       "                var nbb_formatted_code = \"classif_report = classification_report(\\n    list(map(lambda x: np.argmax(x), y_test)),\\n    list(map(lambda x: np.argmax(x), y_hat)),\\n    output_dict=True,\\n)\\n\\nclassif_report_df = pd.DataFrame(classif_report).transpose()\";\n",
       "                var nbb_cells = Jupyter.notebook.get_cells();\n",
       "                for (var i = 0; i < nbb_cells.length; ++i) {\n",
       "                    if (nbb_cells[i].input_prompt_number == nbb_cell_id) {\n",
       "                        nbb_cells[i].set_text(nbb_formatted_code);\n",
       "                        break;\n",
       "                    }\n",
       "                }\n",
       "            }, 500);\n",
       "            "
      ],
      "text/plain": [
       "<IPython.core.display.Javascript object>"
      ]
     },
     "metadata": {},
     "output_type": "display_data"
    }
   ],
   "source": [
    "classif_report = classification_report(\n",
    "    list(map(lambda x: np.argmax(x), y_test)),\n",
    "    list(map(lambda x: np.argmax(x), y_hat)),\n",
    "    output_dict=True,\n",
    ")\n",
    "\n",
    "classif_report_df = pd.DataFrame(classif_report).transpose()"
   ]
  },
  {
   "cell_type": "code",
   "execution_count": 104,
   "metadata": {},
   "outputs": [
    {
     "data": {
      "text/html": [
       "<div>\n",
       "<style scoped>\n",
       "    .dataframe tbody tr th:only-of-type {\n",
       "        vertical-align: middle;\n",
       "    }\n",
       "\n",
       "    .dataframe tbody tr th {\n",
       "        vertical-align: top;\n",
       "    }\n",
       "\n",
       "    .dataframe thead th {\n",
       "        text-align: right;\n",
       "    }\n",
       "</style>\n",
       "<table border=\"1\" class=\"dataframe\">\n",
       "  <thead>\n",
       "    <tr style=\"text-align: right;\">\n",
       "      <th></th>\n",
       "      <th>f1-score</th>\n",
       "      <th>precision</th>\n",
       "      <th>recall</th>\n",
       "      <th>support</th>\n",
       "    </tr>\n",
       "  </thead>\n",
       "  <tbody>\n",
       "    <tr>\n",
       "      <th>0</th>\n",
       "      <td>0.824716</td>\n",
       "      <td>0.836852</td>\n",
       "      <td>0.812927</td>\n",
       "      <td>1609.000000</td>\n",
       "    </tr>\n",
       "    <tr>\n",
       "      <th>1</th>\n",
       "      <td>0.772504</td>\n",
       "      <td>0.758233</td>\n",
       "      <td>0.787323</td>\n",
       "      <td>1199.000000</td>\n",
       "    </tr>\n",
       "    <tr>\n",
       "      <th>accuracy</th>\n",
       "      <td>0.801994</td>\n",
       "      <td>0.801994</td>\n",
       "      <td>0.801994</td>\n",
       "      <td>0.801994</td>\n",
       "    </tr>\n",
       "    <tr>\n",
       "      <th>macro avg</th>\n",
       "      <td>0.798610</td>\n",
       "      <td>0.797543</td>\n",
       "      <td>0.800125</td>\n",
       "      <td>2808.000000</td>\n",
       "    </tr>\n",
       "    <tr>\n",
       "      <th>weighted avg</th>\n",
       "      <td>0.802422</td>\n",
       "      <td>0.803282</td>\n",
       "      <td>0.801994</td>\n",
       "      <td>2808.000000</td>\n",
       "    </tr>\n",
       "  </tbody>\n",
       "</table>\n",
       "</div>"
      ],
      "text/plain": [
       "              f1-score  precision    recall      support\n",
       "0             0.824716   0.836852  0.812927  1609.000000\n",
       "1             0.772504   0.758233  0.787323  1199.000000\n",
       "accuracy      0.801994   0.801994  0.801994     0.801994\n",
       "macro avg     0.798610   0.797543  0.800125  2808.000000\n",
       "weighted avg  0.802422   0.803282  0.801994  2808.000000"
      ]
     },
     "execution_count": 104,
     "metadata": {},
     "output_type": "execute_result"
    },
    {
     "data": {
      "application/javascript": [
       "\n",
       "            setTimeout(function() {\n",
       "                var nbb_cell_id = 104;\n",
       "                var nbb_formatted_code = \"classif_report_df\";\n",
       "                var nbb_cells = Jupyter.notebook.get_cells();\n",
       "                for (var i = 0; i < nbb_cells.length; ++i) {\n",
       "                    if (nbb_cells[i].input_prompt_number == nbb_cell_id) {\n",
       "                        nbb_cells[i].set_text(nbb_formatted_code);\n",
       "                        break;\n",
       "                    }\n",
       "                }\n",
       "            }, 500);\n",
       "            "
      ],
      "text/plain": [
       "<IPython.core.display.Javascript object>"
      ]
     },
     "metadata": {},
     "output_type": "display_data"
    }
   ],
   "source": [
    "classif_report_df"
   ]
  }
 ],
 "metadata": {
  "kernelspec": {
   "display_name": "Python 3",
   "language": "python",
   "name": "python3"
  },
  "language_info": {
   "codemirror_mode": {
    "name": "ipython",
    "version": 3
   },
   "file_extension": ".py",
   "mimetype": "text/x-python",
   "name": "python",
   "nbconvert_exporter": "python",
   "pygments_lexer": "ipython3",
   "version": "3.7.3"
  },
  "toc": {
   "base_numbering": 1,
   "nav_menu": {},
   "number_sections": true,
   "sideBar": true,
   "skip_h1_title": false,
   "title_cell": "Table of Contents",
   "title_sidebar": "Contents",
   "toc_cell": false,
   "toc_position": {},
   "toc_section_display": true,
   "toc_window_display": false
  },
  "varInspector": {
   "cols": {
    "lenName": 16,
    "lenType": 16,
    "lenVar": 40
   },
   "kernels_config": {
    "python": {
     "delete_cmd_postfix": "",
     "delete_cmd_prefix": "del ",
     "library": "var_list.py",
     "varRefreshCmd": "print(var_dic_list())"
    },
    "r": {
     "delete_cmd_postfix": ") ",
     "delete_cmd_prefix": "rm(",
     "library": "var_list.r",
     "varRefreshCmd": "cat(var_dic_list()) "
    }
   },
   "types_to_exclude": [
    "module",
    "function",
    "builtin_function_or_method",
    "instance",
    "_Feature"
   ],
   "window_display": false
  }
 },
 "nbformat": 4,
 "nbformat_minor": 2
}
